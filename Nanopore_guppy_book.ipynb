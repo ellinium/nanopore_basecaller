{
  "nbformat": 4,
  "nbformat_minor": 0,
  "metadata": {
    "colab": {
      "provenance": [],
      "include_colab_link": true
    },
    "kernelspec": {
      "name": "python3",
      "display_name": "Python 3"
    },
    "language_info": {
      "name": "python"
    },
    "accelerator": "GPU"
  },
  "cells": [
    {
      "cell_type": "markdown",
      "metadata": {
        "id": "view-in-github",
        "colab_type": "text"
      },
      "source": [
        "<a href=\"https://colab.research.google.com/github/ellinium/nanopore_basecaller/blob/main/Nanopore_guppy_book.ipynb\" target=\"_parent\"><img src=\"https://colab.research.google.com/assets/colab-badge.svg\" alt=\"Open In Colab\"/></a>"
      ]
    },
    {
      "cell_type": "markdown",
      "source": [
        "# Nanopore guppy basecaller\n",
        "Processes fast5 files to fastq.\n",
        "The supported version is 4.0.15."
      ],
      "metadata": {
        "id": "8a7myNG1JYt3"
      }
    },
    {
      "cell_type": "markdown",
      "source": [
        "# **Instructions**\n",
        "1. Upload ont-guppy_4.0.15_linux64.tar.gz to your Google Drive (download from https://drive.google.com/file/d/1iGm9l6tX2KExjL1UOAbgeVG9sLzCAtpo/view?usp=sharing) - do it only once, no need to repeat each run.\n",
        "\n",
        "2. Upload your fast5 files on a Google Drive\n",
        "\n",
        "2. Check “Runtime/Change Runtime Mode” from the main menu. “Hardware accelerator“ should be set as ‘GPU’\n",
        "\n",
        "3.  Specify input parameters:\n",
        "\n",
        "```\n",
        "    fast5_drive_directory - a folder on Google Drive with your fast5 files\n",
        "    guppy_folder - a Google Drive folder with the ont-guppy_4.0.15_linux64.tar.gz archive\n",
        "    flowcell - Nanopore flow cell name\n",
        "    kit - Nanopore kit name\n",
        "    gpu_runners_per_device - a number of neural network runners to create per CUDA device (20 works ok with Google colab)\n",
        "    cpu_threads_per_caller - a number of CPU worker threads per basecaller (2 works ok with Google Colab)\n",
        "    min_qscore - sets a minimum qscore threshold for the reads to pass (the maximum is 10)\n",
        "    output_fastq_filename - a name of a final fastq file obtained by concatenating all fastq files passed min_qscore.\n",
        "```\n",
        "\n",
        "4. Run the code from the main menu: Runtime/Run all.\n",
        "While connecting, permit this notebook to access your Google Drive files (a separate window will be launched by Google).\n"
      ],
      "metadata": {
        "id": "gbpFzR5dyWwm"
      }
    },
    {
      "cell_type": "code",
      "source": [
        "#@title Specify a folder with fast5 files and parameters for guppy basecaller\n",
        "\n",
        "from google.colab import drive\n",
        "\n",
        "fast5_drive_directory = \"Copy of UQ phage genomes/SH9454 nanopore reads\" #@param {type:\"string\"}\n",
        "guppy_folder = \"Nanopore_Sequencing\" #@param {type:\"string\"}\n",
        "flowcell = \"FLO-MIN106\" #@param {type:\"string\"}\n",
        "kit = \"SQK-RBK004\" #@param {type:\"string\"}\n",
        "gpu_runners_per_device = \"20\" #@param {type:\"string\"}\n",
        "cpu_threads_per_caller = \"2\" #@param {type:\"string\"}\n",
        "min_qscore = \"7\" #@param {type:\"string\"}\n",
        "output_fastq_filename = \"FASTQ_pass_barcode01.fastq\" #@param {type:\"string\"}\n",
        "\n",
        "google_drive_path = '/content/gdrive'\n",
        "drive.mount(google_drive_path)\n",
        "google_drive_path = google_drive_path + '/MyDrive/'\n",
        "\n",
        "google_drive_fast5_path = google_drive_path + \"'/\" + fast5_drive_directory + \"'\"\n",
        "guppy_tar_folder = google_drive_path  + '/' + guppy_folder \n",
        "guppy_full_path = guppy_tar_folder + '/ont-guppy-gpu/ont-guppy'\n",
        "\n",
        "#unzip guppy archive and give permissions to execute \n",
        "!mkdir -p $guppy_full_path\n",
        "!tar -xf $guppy_tar_folder/ont-guppy_4.0.15_linux64.tar.gz -C $guppy_full_path\n",
        "!chmod +x $guppy_full_path/bin/guppy_basecaller\n",
        "\n"
      ],
      "metadata": {
        "id": "L3ePTJD5ZFtH",
        "colab": {
          "base_uri": "https://localhost:8080/"
        },
        "cellView": "form",
        "outputId": "f717329d-2d1b-4aa4-b61b-59cba96f2c4f"
      },
      "execution_count": null,
      "outputs": [
        {
          "output_type": "stream",
          "name": "stdout",
          "text": [
            "Mounted at /content/gdrive\n"
          ]
        }
      ]
    },
    {
      "cell_type": "code",
      "metadata": {
        "id": "kbZOY0DKGhas",
        "colab": {
          "base_uri": "https://localhost:8080/"
        },
        "cellView": "form",
        "outputId": "3c909de2-92fe-484b-a1ba-86c321cd17fb"
      },
      "source": [
        "#@title Install prerequisites\n",
        "!apt-get -qq install -y libidn11\n",
        "\n",
        "\n"
      ],
      "execution_count": null,
      "outputs": [
        {
          "output_type": "stream",
          "name": "stdout",
          "text": [
            "Selecting previously unselected package libidn11:amd64.\n",
            "(Reading database ... 129504 files and directories currently installed.)\n",
            "Preparing to unpack .../libidn11_1.33-2.2ubuntu2_amd64.deb ...\n",
            "Unpacking libidn11:amd64 (1.33-2.2ubuntu2) ...\n",
            "Setting up libidn11:amd64 (1.33-2.2ubuntu2) ...\n",
            "Processing triggers for libc-bin (2.31-0ubuntu9.9) ...\n"
          ]
        }
      ]
    },
    {
      "cell_type": "code",
      "source": [
        "#@title Launch basecaller\n",
        "#execute basecaller\n",
        "!$guppy_full_path/bin/guppy_basecaller -i $google_drive_fast5_path -s $google_drive_fast5_path --flowcell $flowcell --kit $kit --gpu_runners_per_device $gpu_runners_per_device --cpu_threads_per_caller $cpu_threads_per_caller --qscore_filtering --min_qscore=$min_qscore -q 0 --device cuda:0\n",
        "#!$guppy_full_path/bin/guppy_basecaller -i $google_drive_fast5_path -s $google_drive_fast5_path --flowcell FLO-MIN106 --kit SQK-RBK004 --gpu_runners_per_device 20 --cpu_threads_per_caller 2 --qscore_filtering --min_qscore=7 -q 0 --device cuda:0\n",
        "\n",
        "#concat all valid fastq files\n",
        "! cat $google_drive_fast5_path/pass/*.fastq >> $google_drive_fast5_path/$output_fastq_filename\n",
        "\n",
        "#execute guppy aligner\n",
        "#! /content/gdrive/MyDrive/Nanopore_Sequencing/ont-guppy-gpu/ont-guppy/bin/guppy_aligner -i /content/gdrive/MyDrive/Nanopore_Sequencing/output/barcode12/pass/ -s /content/gdrive/MyDrive/Nanopore_Sequencing/output/barcode12/SAM --align_ref /content/gdrive/MyDrive/Nanopore_Sequencing/174WT_genome.fasta\n",
        "#! cat /content/gdrive/MyDrive/Nanopore_Sequencing/output/barcode12/SAM/*.sam >> /content/gdrive/MyDrive/Nanopore_Sequencing/output/barcode12/barcode12_basecall.sam"
      ],
      "metadata": {
        "colab": {
          "base_uri": "https://localhost:8080/"
        },
        "id": "WrVdWDDFw4C3",
        "outputId": "4468c1b1-9c21-49ce-dfb8-4b76fd1e83bc"
      },
      "execution_count": null,
      "outputs": [
        {
          "output_type": "stream",
          "name": "stdout",
          "text": [
            "ONT Guppy basecalling software version 4.0.15+5694074, client-server API version 2.1.0\n",
            "config file:        /content/gdrive/MyDrive/Nanopore_Sequencing/ont-guppy-gpu/ont-guppy/data/dna_r9.4.1_450bps_hac.cfg\n",
            "model file:         /content/gdrive/MyDrive/Nanopore_Sequencing/ont-guppy-gpu/ont-guppy/data/template_r9.4.1_450bps_hac.jsn\n",
            "input path:         /content/gdrive/MyDrive//Copy of UQ phage genomes/SH9454 nanopore reads\n",
            "save path:          /content/gdrive/MyDrive//Copy of UQ phage genomes/SH9454 nanopore reads\n",
            "chunk size:         2000\n",
            "chunks per runner:  512\n",
            "minimum qscore:     7\n",
            "records per file:   0\n",
            "num basecallers:    4\n",
            "gpu device:         cuda:0\n",
            "kernel path:        \n",
            "runners per device: 20\n",
            "\n",
            "Found 6 fast5 files to process.\n",
            "Init time: 10243 ms\n",
            "\n",
            "0%   10   20   30   40   50   60   70   80   90   100%\n",
            "|----|----|----|----|----|----|----|----|----|----|\n",
            "***************************************************\n",
            "Caller time: 150518 ms, Samples called: 421509799, samples/s: 2.80039e+06\n",
            "Finishing up any open output files.\n",
            "Basecalling completed successfully.\n"
          ]
        }
      ]
    },
    {
      "cell_type": "code",
      "source": [
        "#!nvidia-smi"
      ],
      "metadata": {
        "id": "2G61zMgQnJOD"
      },
      "execution_count": null,
      "outputs": []
    }
  ]
}